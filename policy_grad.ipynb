{
 "cells": [
  {
   "cell_type": "code",
   "execution_count": 1,
   "metadata": {
    "collapsed": true
   },
   "outputs": [],
   "source": [
    "%matplotlib inline"
   ]
  },
  {
   "cell_type": "code",
   "execution_count": 2,
   "metadata": {
    "collapsed": true
   },
   "outputs": [],
   "source": [
    "from matplotlib import pyplot as plt\n",
    "import numpy as np\n",
    "from IPython.display import clear_output\n",
    "from ipywidgets import interact"
   ]
  },
  {
   "cell_type": "code",
   "execution_count": 132,
   "metadata": {
    "collapsed": false
   },
   "outputs": [],
   "source": [
    "D = np.random.random_sample([2])\n",
    "D = D/np.sum(D)\n",
    "\n",
    "Q = np.random.random_sample([4])\n",
    "T = np.random.random_sample([4])\n",
    "\n",
    "def sum0():\n",
    "    return np.exp(T[0]) + np.exp(T[1])\n",
    "\n",
    "def sum1():\n",
    "    return np.exp(T[2]) + np.exp(T[3])\n",
    "\n",
    "def p0():\n",
    "    return np.exp(T[0]) / sum0()\n",
    "\n",
    "def p1():\n",
    "    return np.exp(T[1]) / sum0()\n",
    "\n",
    "def p2():\n",
    "    return np.exp(T[2]) / sum1()\n",
    "\n",
    "def p3():\n",
    "    return np.exp(T[3]) / sum1()\n",
    "\n",
    "# picture\n",
    "#     .\n",
    "#  d0    d1\n",
    "#  s0    s1\n",
    "#p0 p1   p2  p3\n",
    "#q0 q1   q2  q3\n",
    "#t0 t1   t2  t3"
   ]
  },
  {
   "cell_type": "code",
   "execution_count": 133,
   "metadata": {
    "collapsed": false
   },
   "outputs": [],
   "source": [
    "def obj():\n",
    "    return D[0] * (p0() * Q[0] + p1() * Q[1]) + D[1] * (p2() * Q[2] + p3() * Q[3])\n",
    "    \n",
    "def grad_t0():\n",
    "    return D[0] *  p0() * p1() * (Q[0] - Q[1])"
   ]
  },
  {
   "cell_type": "code",
   "execution_count": 134,
   "metadata": {
    "collapsed": false
   },
   "outputs": [
    {
     "data": {
      "text/plain": [
       "0.44484447936253835"
      ]
     },
     "execution_count": 134,
     "metadata": {},
     "output_type": "execute_result"
    }
   ],
   "source": [
    "obj()"
   ]
  },
  {
   "cell_type": "code",
   "execution_count": 135,
   "metadata": {
    "collapsed": false
   },
   "outputs": [
    {
     "data": {
      "text/plain": [
       "-0.02910412271012194"
      ]
     },
     "execution_count": 135,
     "metadata": {},
     "output_type": "execute_result"
    }
   ],
   "source": [
    "grad_t0()"
   ]
  },
  {
   "cell_type": "code",
   "execution_count": 136,
   "metadata": {
    "collapsed": false
   },
   "outputs": [
    {
     "data": {
      "image/png": "[encoded data removed]",
      "text/plain": [
       "<matplotlib.figure.Figure at 0x7f43381f9d10>"
      ]
     },
     "metadata": {},
     "output_type": "display_data"
    }
   ],
   "source": [
    "origt0 = T[0]\n",
    "\n",
    "objs = []\n",
    "for i in range(1000):\n",
    "    T[0] += grad_t0()\n",
    "    objs.append(obj())\n",
    "    \n",
    "f = plt.plot(objs)\n",
    "\n",
    "T[0] = origt0"
   ]
  },
  {
   "cell_type": "code",
   "execution_count": 138,
   "metadata": {
    "collapsed": false
   },
   "outputs": [
    {
     "name": "stdout",
     "output_type": "stream",
     "text": [
      "numerical grad: -0.0291039644607\n",
      "analytic grad: -0.0291039636457\n"
     ]
    }
   ],
   "source": [
    "# numerical grad\n",
    "h = 0.000001\n",
    "\n",
    "o0 = obj()\n",
    "T[0] += h\n",
    "o1 = obj()\n",
    "\n",
    "print('numerical grad: {}'.format((o1-o0)/h))\n",
    "print('analytic grad: {}'.format(grad_t0()))"
   ]
  },
  {
   "cell_type": "code",
   "execution_count": null,
   "metadata": {
    "collapsed": true
   },
   "outputs": [],
   "source": []
  }
 ],
 "metadata": {
  "kernelspec": {
   "display_name": "Python 2",
   "language": "python",
   "name": "python2"
  },
  "language_info": {
   "codemirror_mode": {
    "name": "ipython",
    "version": 2
   },
   "file_extension": ".py",
   "mimetype": "text/x-python",
   "name": "python",
   "nbconvert_exporter": "python",
   "pygments_lexer": "ipython2",
   "version": "2.7.11"
  }
 },
 "nbformat": 4,
 "nbformat_minor": 0
}
